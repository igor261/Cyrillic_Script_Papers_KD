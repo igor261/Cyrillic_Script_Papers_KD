{
 "cells": [
  {
   "cell_type": "markdown",
   "metadata": {},
   "source": [
    "# Steps before running this code\n",
    "1. Install grobid service\n",
    "2. Run grobid service by running \"gradlew run\" command in the grobid folder\n",
    "    1. At 88% it will stop. Then we can open the jupyter notebook from another cmd and run this code"
   ]
  },
  {
   "cell_type": "code",
   "execution_count": 1,
   "metadata": {},
   "outputs": [
    {
     "name": "stdout",
     "output_type": "stream",
     "text": [
      "GROBID server is up and running\n"
     ]
    }
   ],
   "source": [
    "import requests\n",
    "import os\n",
    "import re\n",
    "\n",
    "### CHANGE PATH!\n",
    "os.chdir(\"C:/Users/igor4/grobid-client-python\")\n",
    "grobid= __import__('grobid-client')\n",
    "\n",
    "g = grobid.grobid_client()\n"
   ]
  },
  {
   "cell_type": "code",
   "execution_count": 2,
   "metadata": {},
   "outputs": [],
   "source": [
    "### Function that retrieve the full path of files in a directory\n",
    "\n",
    "def listdir_fullpath(d):\n",
    "    return [os.path.join(d, f) for f in os.listdir(d)]"
   ]
  },
  {
   "cell_type": "code",
   "execution_count": 31,
   "metadata": {},
   "outputs": [],
   "source": [
    "path = \"D:/_final_selection_16478/PDFs_15553\""
   ]
  },
  {
   "cell_type": "code",
   "execution_count": 4,
   "metadata": {},
   "outputs": [
    {
     "name": "stdout",
     "output_type": "stream",
     "text": [
      "15554 PDF files to process\n"
     ]
    }
   ],
   "source": [
    "### WORKING!\n",
    "\n",
    "g.process_batch(service=\"processHeaderDocument\",\n",
    "                pdf_files=listdir_fullpath(path),\n",
    "                output=path + \"/output\",\n",
    "                n=5,generateIDs=True,consolidate_header=True,consolidate_citations=False,\n",
    "                                   force = True,teiCoordinates=True)"
   ]
  },
  {
   "cell_type": "markdown",
   "metadata": {},
   "source": [
    "# Prediction of missing papers (if there are any)"
   ]
  },
  {
   "cell_type": "code",
   "execution_count": 18,
   "metadata": {},
   "outputs": [],
   "source": [
    "grobid = os.listdir(path+ \"/output\")\n",
    "\n",
    "allpdf = os.listdir(path)[1:] # First element is the \"output\" directory\n",
    "\n",
    "grobid = [re.sub(\".tei.xml\" , \".pdf\",elem) for elem in grobid]\n"
   ]
  },
  {
   "cell_type": "code",
   "execution_count": 19,
   "metadata": {},
   "outputs": [
    {
     "name": "stdout",
     "output_type": "stream",
     "text": [
      "GROBID hat für: 4195 von 15553 Paper Ergebnisse geliefert\n"
     ]
    }
   ],
   "source": [
    "print(\"GROBID hat für: \" + str(len(grobid)) + \" von \"+ str(len(allpdf))+ \" Paper Ergebnisse geliefert\")"
   ]
  },
  {
   "cell_type": "code",
   "execution_count": 21,
   "metadata": {},
   "outputs": [],
   "source": [
    "def missing_pdfs(lst1, lst2): \n",
    "    lst3 = [value for value in lst1 if value not in lst2] \n",
    "    return lst3 "
   ]
  },
  {
   "cell_type": "code",
   "execution_count": 22,
   "metadata": {},
   "outputs": [
    {
     "data": {
      "text/plain": [
       "11359"
      ]
     },
     "execution_count": 22,
     "metadata": {},
     "output_type": "execute_result"
    }
   ],
   "source": [
    "missing  = missing_pdfs(allpdf , grobid)\n",
    "len(missing)"
   ]
  },
  {
   "cell_type": "code",
   "execution_count": null,
   "metadata": {
    "scrolled": false
   },
   "outputs": [],
   "source": [
    "missing_final = [re.sub(\"Core\" , path +\"/Core\",elem) for elem in missing]\n",
    "missing_final[0:10]"
   ]
  },
  {
   "cell_type": "code",
   "execution_count": 33,
   "metadata": {},
   "outputs": [
    {
     "name": "stdout",
     "output_type": "stream",
     "text": [
      "11359 PDF files to process\n"
     ]
    }
   ],
   "source": [
    "### WORKING!\n",
    "\n",
    "g.process_batch(service=\"processHeaderDocument\",\n",
    "                pdf_files=missing_final,\n",
    "                output=path + \"/output\",\n",
    "                n=5,generateIDs=True,consolidate_header=True,consolidate_citations=False,\n",
    "                                   force = True,teiCoordinates=True)"
   ]
  },
  {
   "cell_type": "code",
   "execution_count": 35,
   "metadata": {
    "scrolled": true
   },
   "outputs": [
    {
     "name": "stdout",
     "output_type": "stream",
     "text": [
      "Not all papers had been predicted! Repeat the process \"Prediction of missing papers\" for 4101 missing papers!\n"
     ]
    }
   ],
   "source": [
    "grobid_test = os.listdir(path+ \"/output\")\n",
    "allpdf_test = os.listdir(path)[1:] # First element is the \"output\" directory\n",
    "\n",
    "if len(grobid_test) != len(allpdf_test):\n",
    "    print(\"Not all papers had been predicted! Repeat the process \\\"Prediction of missing papers\\\" for \"+ str(len(allpdf_test)-len(grobid_test))+ \" missing papers!\")"
   ]
  }
 ],
 "metadata": {
  "kernelspec": {
   "display_name": "Python 3",
   "language": "python",
   "name": "python3"
  },
  "language_info": {
   "codemirror_mode": {
    "name": "ipython",
    "version": 3
   },
   "file_extension": ".py",
   "mimetype": "text/x-python",
   "name": "python",
   "nbconvert_exporter": "python",
   "pygments_lexer": "ipython3",
   "version": "3.7.7"
  }
 },
 "nbformat": 4,
 "nbformat_minor": 4
}
