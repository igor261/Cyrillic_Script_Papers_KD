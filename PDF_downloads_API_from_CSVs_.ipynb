{
 "cells": [
  {
   "cell_type": "code",
   "execution_count": 1,
   "metadata": {},
   "outputs": [],
   "source": [
    "# imports\n",
    "\n",
    "import re\n",
    "import json\n",
    "import pandas as pd\n",
    "import copy\n",
    "import numpy as np\n",
    "import urllib\n",
    "import requests\n",
    "import matplotlib.pylab as plt\n",
    "from collections import Counter\n",
    "from pathlib import Path\n",
    "\n"
   ]
  },
  {
   "cell_type": "code",
   "execution_count": 2,
   "metadata": {},
   "outputs": [],
   "source": [
    "# read 348.json file\n",
    "\n",
    "data_df_348 = pd.read_json('_coredata/348.json', lines=True)"
   ]
  },
  {
   "cell_type": "code",
   "execution_count": 3,
   "metadata": {},
   "outputs": [],
   "source": [
    "# read cyrr.json file\n",
    "\n",
    "data_df_cyrr = pd.read_json('_coredata/core_all_cyr.jsonl', lines=True)"
   ]
  },
  {
   "cell_type": "code",
   "execution_count": 4,
   "metadata": {},
   "outputs": [
    {
     "data": {
      "text/plain": [
       "(61827, 22)"
      ]
     },
     "execution_count": 4,
     "metadata": {},
     "output_type": "execute_result"
    }
   ],
   "source": [
    "bigdata = pd.concat([data_df_348, data_df_cyrr], ignore_index=True, sort=False)\n",
    "bigdata.shape"
   ]
  },
  {
   "cell_type": "code",
   "execution_count": 5,
   "metadata": {},
   "outputs": [
    {
     "data": {
      "text/plain": [
       "(49058, 22)"
      ]
     },
     "execution_count": 5,
     "metadata": {},
     "output_type": "execute_result"
    }
   ],
   "source": [
    "bigdata.drop_duplicates(subset='coreId', keep='last', inplace = True)\n",
    "bigdata.shape"
   ]
  },
  {
   "cell_type": "code",
   "execution_count": 6,
   "metadata": {},
   "outputs": [],
   "source": [
    "### API Download Section\n",
    "\n",
    "# Download function\n",
    "\n",
    "def download_file(download_url , name, item_range):\n",
    "    \n",
    "    # directory check \n",
    "    path = '_API_pdf_download/Core_All_Cyr/'+str(item_range)\n",
    "    Path(path).mkdir(parents=True, exist_ok=True)\n",
    "    path = path+'/'+name\n",
    "    \n",
    "    response = urllib.request.urlopen(download_url)\n",
    "\n",
    "    file = open(path, 'wb')\n",
    "    file.write(response.read())\n",
    "    file.close()\n",
    "    print(\"Completed\")"
   ]
  },
  {
   "cell_type": "code",
   "execution_count": 7,
   "metadata": {},
   "outputs": [],
   "source": [
    "# core ids and samples included in error protocol\n",
    "\n",
    "def write_error_protocol(error_indx_list, error_coreid_list, item_range):\n",
    "    \n",
    "    # directory check \n",
    "    path = '_API_pdf_download/Core_All_Cyr/'+str(item_range)\n",
    "    Path(path).mkdir(parents=True, exist_ok=True)\n",
    "    path = path+'/_Error_List_'+str(item_range)+'.txt'\n",
    "    \n",
    "    error_content = 'The following items of the dataframe could not be downloaded: '+\"\\n\"\n",
    "    i=0\n",
    "    for e in error_indx_list:\n",
    "        error_content = error_content + 'Index: '+str(e) \n",
    "        error_content = error_content +' CoreId: '+str(error_coreid_list[i])+\"\\n\" \n",
    "        i = i+1\n",
    "        \n",
    "    file = open(path, 'wt')\n",
    "    file.write(error_content)\n",
    "    file.close()\n",
    "    print(\"Error Protocol Completed\")"
   ]
  },
  {
   "cell_type": "code",
   "execution_count": 9,
   "metadata": {},
   "outputs": [],
   "source": [
    "# import alarm sound for notification when download loop is finished\n",
    "\n",
    "from IPython.display import Audio\n",
    "sound_file = 'Alarm05.wav'"
   ]
  },
  {
   "cell_type": "code",
   "execution_count": null,
   "metadata": {},
   "outputs": [],
   "source": [
    "# Loop for download\n",
    "error_index_list = []\n",
    "error_paper_list = []\n",
    "\n",
    "\n",
    "### DOWNLOAD SET OPTIONS ###\n",
    "\n",
    "lower_bound = 0\n",
    "# lower is included\n",
    "\n",
    "upper_bound = 10000\n",
    "# upper is excluded\n",
    "\n",
    "item_range_path = ''+str(lower_bound)+'_'+str(upper_bound)\n",
    "api_key = 'sgfq60SvVxpG3dMDKOa98IlbTR4tYNXF'\n",
    "\n",
    "for i in range(lower_bound ,upper_bound):\n",
    "\n",
    "    try:\n",
    "        core_id = str(final_df_no_dupl.iloc[i]['coreId']) \n",
    "        url = 'https://core.ac.uk:443/api-v2/articles/get/'+ core_id +'/download/pdf?apiKey='+ api_key\n",
    "        download_file(url , 'Core_ID_' + core_id + '.pdf', item_range_path)\n",
    "        print(str(i))\n",
    "        \n",
    "    except (KeyboardInterrupt, SystemExit):\n",
    "        print('Keyboard Interrupt triggered')\n",
    "        raise\n",
    "        \n",
    "    except:\n",
    "        print('Error at index # '+str(i))\n",
    "        error_index_list.append(i)\n",
    "        error_paper_list.append(final_df_no_dupl.iloc[i]['coreId'])\n",
    "\n",
    "write_error_protocol(error_index_list, error_paper_list, item_range_path)\n",
    "\n",
    "print('Size of triggered download set: '+str(upper_bound - lower_bound))\n",
    "print('Error count: '+str(len(error_index_list)))\n",
    "Audio(sound_file, autoplay=True)"
   ]
  },
  {
   "cell_type": "code",
   "execution_count": null,
   "metadata": {},
   "outputs": [],
   "source": []
  }
 ],
 "metadata": {
  "kernelspec": {
   "display_name": "Python 3",
   "language": "python",
   "name": "python3"
  },
  "language_info": {
   "codemirror_mode": {
    "name": "ipython",
    "version": 3
   },
   "file_extension": ".py",
   "mimetype": "text/x-python",
   "name": "python",
   "nbconvert_exporter": "python",
   "pygments_lexer": "ipython3",
   "version": "3.7.7"
  }
 },
 "nbformat": 4,
 "nbformat_minor": 4
}
